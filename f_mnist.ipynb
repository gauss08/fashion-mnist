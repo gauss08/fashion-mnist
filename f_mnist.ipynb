{
 "cells": [
  {
   "cell_type": "code",
   "execution_count": 1,
   "id": "b01e0dd1",
   "metadata": {},
   "outputs": [],
   "source": [
    "import pandas as pd\n",
    "import numpy as np\n",
    "import matplotlib.pyplot as plt\n",
    "import seaborn as sns"
   ]
  },
  {
   "cell_type": "code",
   "execution_count": 2,
   "id": "c2df0425",
   "metadata": {},
   "outputs": [
    {
     "data": {
      "text/plain": [
       "['fashion-mnist_train.csv',\n",
       " 'untitled1.py',\n",
       " 'untitled3.py',\n",
       " 'fashion-mnist_test.csv',\n",
       " 'f_mnist.ipynb',\n",
       " 'untitled.py',\n",
       " 'models.ipynb',\n",
       " 'untitled2.py',\n",
       " 'data',\n",
       " 'cifar10.ipynb']"
      ]
     },
     "execution_count": 2,
     "metadata": {},
     "output_type": "execute_result"
    }
   ],
   "source": [
    "from glob import glob\n",
    "\n",
    "glob('*')"
   ]
  },
  {
   "cell_type": "code",
   "execution_count": 3,
   "id": "83d10ecb",
   "metadata": {},
   "outputs": [],
   "source": [
    "train_df=pd.read_csv('fashion-mnist_train.csv')\n",
    "test_df=pd.read_csv('fashion-mnist_test.csv')"
   ]
  },
  {
   "cell_type": "code",
   "execution_count": 4,
   "id": "cf213aa9",
   "metadata": {},
   "outputs": [],
   "source": [
    "classes={\n",
    "    0 : 'T-shirt/top',\n",
    "    1 : 'Trouser',\n",
    "    2 : 'Pullover',\n",
    "    3 : 'Dress',\n",
    "    4 : 'Coat',\n",
    "    5 : 'Sandal',\n",
    "    6 : 'Shirt',\n",
    "    7 : 'Sneaker',\n",
    "    8 : 'Bag',\n",
    "    9 : 'Ankle boot',\n",
    "\n",
    "}"
   ]
  },
  {
   "cell_type": "code",
   "execution_count": 5,
   "id": "c3d7c41a",
   "metadata": {},
   "outputs": [],
   "source": [
    "import torch\n",
    "import torchvision\n",
    "import torch.nn as nn\n",
    "import torchvision.transforms as transforms\n",
    "from torch.utils.data import Dataset,DataLoader\n",
    "import torch.nn.functional as F\n",
    "import torch.optim as optim\n",
    "from torchvision.utils import make_grid\n",
    "from torch.utils.data import random_split"
   ]
  },
  {
   "cell_type": "code",
   "execution_count": 6,
   "id": "492bb420",
   "metadata": {},
   "outputs": [],
   "source": [
    "def imshow(image):\n",
    "    image=image.numpy()\n",
    "    plt.imshow(np.transpose(image,(1,2,0)),cmap='binary')\n",
    "    plt.show()"
   ]
  },
  {
   "cell_type": "code",
   "execution_count": 7,
   "id": "a0c069c2",
   "metadata": {},
   "outputs": [],
   "source": [
    "class AddGaussianNoise():\n",
    "    def __init__(self,mean=0.,std=0.):\n",
    "        self.mean=mean\n",
    "        self.std=std\n",
    "        \n",
    "    \n",
    "    def __call__(self,tensor):\n",
    "        return tensor+torch.rand(tensor.shape)*self.std+self.mean\n",
    "    \n",
    "    def __repr__(self):\n",
    "        return self.__class__.__name__ + '(mean={0}, std={1})'.format(self.mean, self.std)"
   ]
  },
  {
   "cell_type": "code",
   "execution_count": 8,
   "id": "caefc596",
   "metadata": {},
   "outputs": [],
   "source": [
    "class Cdataset(Dataset):\n",
    "    def __init__(self,dataframe,transform=None):\n",
    "        self.dataframe=dataframe\n",
    "        self.transform=transform\n",
    "    \n",
    "    def __len__(self):\n",
    "        return self.dataframe.shape[0]\n",
    "        \n",
    "    def __getitem__(self,idx):\n",
    "        image=self.dataframe.iloc[idx,1:]\n",
    "        image=image.values.reshape(28,28,1)/255.0\n",
    "        image=transforms.ToTensor()(image)\n",
    "        image=image.to(torch.float32)\n",
    "        label=self.dataframe.iloc[idx,0]\n",
    "        if self.transform:\n",
    "            image=self.transform(image)\n",
    "        return image,label\n",
    "    \n",
    "\n",
    "transform=transforms.Compose([\n",
    "    transforms.ToPILImage(),\n",
    "    transforms.ToTensor(),\n",
    "    AddGaussianNoise(),\n",
    "])\n",
    "\n",
    "\n",
    "df=Cdataset(train_df,transform)\n",
    "test=Cdataset(test_df)"
   ]
  },
  {
   "cell_type": "code",
   "execution_count": 9,
   "id": "1e1816e6",
   "metadata": {},
   "outputs": [
    {
     "data": {
      "text/plain": [
       "2"
      ]
     },
     "execution_count": 9,
     "metadata": {},
     "output_type": "execute_result"
    }
   ],
   "source": [
    "train_df.iloc[0,0]"
   ]
  },
  {
   "cell_type": "code",
   "execution_count": 10,
   "id": "3acdb318",
   "metadata": {},
   "outputs": [],
   "source": [
    "train,val=random_split(df,[0.85,0.15])"
   ]
  },
  {
   "cell_type": "code",
   "execution_count": 11,
   "id": "fe1fe05d",
   "metadata": {},
   "outputs": [],
   "source": [
    "trainloader=DataLoader(train,batch_size=512,shuffle=True,num_workers=14)\n",
    "valloader=DataLoader(val,batch_size=800,shuffle=False,num_workers=14)\n",
    "testloader=DataLoader(test,batch_size=800,shuffle=False)"
   ]
  },
  {
   "cell_type": "code",
   "execution_count": 12,
   "id": "084ba838",
   "metadata": {},
   "outputs": [
    {
     "data": {
      "image/png": "[encoded data removed]",
      "text/plain": [
       "<Figure size 432x288 with 1 Axes>"
      ]
     },
     "metadata": {},
     "output_type": "display_data"
    }
   ],
   "source": [
    "image,label=next(iter(trainloader))\n",
    "imshow(make_grid(image))"
   ]
  },
  {
   "cell_type": "code",
   "execution_count": 13,
   "id": "019ab9e0",
   "metadata": {},
   "outputs": [],
   "source": [
    "class Net(nn.Module):\n",
    "    def __init__(self):\n",
    "        super().__init__()\n",
    "        self.conv1=nn.Conv2d(1,96,7,padding=1)\n",
    "        self.pool=nn.MaxPool2d(2,2)\n",
    "        self.batch1=nn.BatchNorm2d(96)\n",
    "        \n",
    "        self.conv2=nn.Conv2d(96,80,5,padding=1)\n",
    "        self.batch2=nn.BatchNorm2d(80)\n",
    "\n",
    "        self.conv3=nn.Conv2d(80,96,5,padding=1)\n",
    "        self.batch3=nn.BatchNorm2d(96)\n",
    "\n",
    "        self.conv4=nn.Conv2d(96,64,3,padding=1)\n",
    "        self.batch4=nn.BatchNorm2d(64)\n",
    "\n",
    "        self.fc1=nn.Linear(576,512)\n",
    "        self.batch5=nn.BatchNorm1d(512)\n",
    "        self.drop=nn.Dropout(0.5)\n",
    "        self.fc2=nn.Linear(512,256)\n",
    "        self.batch6=nn.BatchNorm1d(256)\n",
    "        self.drop1=nn.Dropout(0.5)\n",
    "        self.fc3=nn.Linear(256,10)\n",
    "        \n",
    "    def forward(self,x):\n",
    "        x=self.pool(F.relu(self.batch1(self.conv1(x))))\n",
    "        x=self.pool(F.relu(self.batch2(self.conv2(x))))\n",
    "        x=self.batch3(self.conv3(x))\n",
    "        x=self.batch4(self.conv4(x))\n",
    "        x=torch.flatten(x,1)\n",
    "        x=F.relu(self.batch5(self.fc1(x)))\n",
    "        x=self.drop(x)\n",
    "        x=F.relu(self.batch6(self.fc2(x)))\n",
    "        x=self.drop1(x)\n",
    "        x=self.fc3(x)\n",
    "        return x\n",
    "\n",
    "n=Net()"
   ]
  },
  {
   "cell_type": "code",
   "execution_count": 14,
   "id": "c4aa4fd9",
   "metadata": {},
   "outputs": [],
   "source": [
    "criterion=nn.CrossEntropyLoss()\n",
    "optimizer=optim.Adam(n.parameters(),lr=0.01)"
   ]
  },
  {
   "cell_type": "code",
   "execution_count": 15,
   "id": "217200c5",
   "metadata": {},
   "outputs": [],
   "source": [
    "import time"
   ]
  },
  {
   "cell_type": "code",
   "execution_count": 16,
   "id": "29a23401",
   "metadata": {},
   "outputs": [],
   "source": [
    "def train(epochs):\n",
    "    for epoch in range(epochs):\n",
    "        st=time.monotonic()\n",
    "        total=0\n",
    "        correct=0\n",
    "        running_loss=0\n",
    "\n",
    "        for data in trainloader:\n",
    "            inputs,labels=data\n",
    "            optimizer.zero_grad()\n",
    "            output=n(inputs)\n",
    "            loss=criterion(output,labels)\n",
    "            loss.backward()\n",
    "            optimizer.step()\n",
    "\n",
    "            total+=labels.size(0)\n",
    "            correct+=(torch.max(output,1)[1]==labels).sum().item()\n",
    "            running_loss+=loss.item()\n",
    "\n",
    "        val_correct=0\n",
    "        val_total=0\n",
    "        with torch.no_grad():\n",
    "            for data in valloader:\n",
    "                images,labels=data\n",
    "                outputs=n(images)\n",
    "                _,predicted=torch.max(outputs.data,1)\n",
    "                val_total+=labels.size(0)\n",
    "                val_correct+=(predicted==labels).sum().item()\n",
    "\n",
    "\n",
    "        en=time.monotonic()\n",
    "        print(f'[{en-st :.1f}s] [{epoch + 1}/{epochs}] loss: {running_loss / len(trainloader):.3f}, train acc : { (correct/total)*100 :.3f}%, val_acc : {(val_correct/val_total)*100 :.3f}% ')\n"
   ]
  },
  {
   "cell_type": "code",
   "execution_count": 17,
   "id": "ff9146b3",
   "metadata": {},
   "outputs": [
    {
     "name": "stdout",
     "output_type": "stream",
     "text": [
      "lr : 0.01\n",
      "[39.2s] [1/30] loss: 0.725, train acc : 72.492%, val_acc : 81.889% \n",
      "[39.6s] [2/30] loss: 0.429, train acc : 84.408%, val_acc : 86.322% \n",
      "[39.1s] [3/30] loss: 0.350, train acc : 87.588%, val_acc : 87.000% \n",
      "[39.5s] [4/30] loss: 0.315, train acc : 88.827%, val_acc : 88.456% \n",
      "[39.6s] [5/30] loss: 0.284, train acc : 89.992%, val_acc : 89.356% \n",
      "[39.5s] [6/30] loss: 0.261, train acc : 90.737%, val_acc : 89.656% \n",
      "[39.3s] [7/30] loss: 0.240, train acc : 91.478%, val_acc : 90.078% \n",
      "[39.4s] [8/30] loss: 0.225, train acc : 92.025%, val_acc : 90.000% \n",
      "[39.3s] [9/30] loss: 0.216, train acc : 92.276%, val_acc : 90.544% \n",
      "[39.0s] [10/30] loss: 0.206, train acc : 92.645%, val_acc : 90.600% \n",
      "[39.0s] [11/30] loss: 0.192, train acc : 93.088%, val_acc : 90.233% \n",
      "[39.1s] [12/30] loss: 0.179, train acc : 93.529%, val_acc : 90.878% \n",
      "[39.2s] [13/30] loss: 0.170, train acc : 93.971%, val_acc : 90.522% \n",
      "[39.1s] [14/30] loss: 0.157, train acc : 94.400%, val_acc : 90.478% \n",
      "[39.3s] [15/30] loss: 0.153, train acc : 94.435%, val_acc : 90.867% \n",
      "[39.0s] [16/30] loss: 0.146, train acc : 94.676%, val_acc : 91.000% \n",
      "[39.0s] [17/30] loss: 0.140, train acc : 94.873%, val_acc : 90.356% \n",
      "[38.8s] [18/30] loss: 0.136, train acc : 95.049%, val_acc : 91.200% \n",
      "[38.8s] [19/30] loss: 0.121, train acc : 95.627%, val_acc : 90.589% \n",
      "[38.0s] [20/30] loss: 0.114, train acc : 95.943%, val_acc : 90.711% \n",
      "[37.8s] [21/30] loss: 0.110, train acc : 96.037%, val_acc : 90.411% \n",
      "[38.4s] [22/30] loss: 0.106, train acc : 96.169%, val_acc : 91.011% \n",
      "[38.2s] [23/30] loss: 0.101, train acc : 96.386%, val_acc : 90.411% \n",
      "[38.0s] [24/30] loss: 0.095, train acc : 96.600%, val_acc : 89.856% \n",
      "[38.7s] [25/30] loss: 0.091, train acc : 96.788%, val_acc : 90.822% \n",
      "[38.0s] [26/30] loss: 0.084, train acc : 96.957%, val_acc : 90.500% \n",
      "[38.2s] [27/30] loss: 0.085, train acc : 96.953%, val_acc : 90.322% \n",
      "[38.3s] [28/30] loss: 0.075, train acc : 97.302%, val_acc : 90.444% \n",
      "[38.7s] [29/30] loss: 0.083, train acc : 96.980%, val_acc : 90.756% \n",
      "[38.2s] [30/30] loss: 0.068, train acc : 97.494%, val_acc : 90.644% \n",
      "lr : 0.003\n",
      "[38.1s] [1/15] loss: 0.071, train acc : 97.461%, val_acc : 90.778% \n",
      "[37.9s] [2/15] loss: 0.063, train acc : 97.778%, val_acc : 90.356% \n",
      "[37.0s] [3/15] loss: 0.064, train acc : 97.655%, val_acc : 90.978% \n",
      "[37.1s] [4/15] loss: 0.061, train acc : 97.816%, val_acc : 90.844% \n",
      "[37.1s] [5/15] loss: 0.057, train acc : 97.992%, val_acc : 90.467% \n",
      "[37.1s] [6/15] loss: 0.059, train acc : 97.884%, val_acc : 90.689% \n",
      "[37.2s] [7/15] loss: 0.054, train acc : 98.133%, val_acc : 90.600% \n",
      "[37.2s] [8/15] loss: 0.049, train acc : 98.251%, val_acc : 90.889% \n",
      "[37.2s] [9/15] loss: 0.052, train acc : 98.053%, val_acc : 90.833% \n",
      "[37.5s] [10/15] loss: 0.050, train acc : 98.178%, val_acc : 90.633% \n",
      "[37.4s] [11/15] loss: 0.046, train acc : 98.347%, val_acc : 90.333% \n",
      "[37.3s] [12/15] loss: 0.042, train acc : 98.549%, val_acc : 90.589% \n",
      "[37.0s] [13/15] loss: 0.043, train acc : 98.525%, val_acc : 90.678% \n",
      "[37.1s] [14/15] loss: 0.039, train acc : 98.604%, val_acc : 90.733% \n",
      "[37.2s] [15/15] loss: 0.036, train acc : 98.804%, val_acc : 90.967% \n"
     ]
    }
   ],
   "source": [
    "lr_list=[0.01,0.003]\n",
    "\n",
    "for lr in lr_list:\n",
    "    optimizer.lr=lr\n",
    "    print('lr : '+ str(lr))\n",
    "    match lr:\n",
    "        case 0.01:\n",
    "            train(30)\n",
    "        case 0.003:\n",
    "            train(15)\n",
    "        "
   ]
  },
  {
   "cell_type": "code",
   "execution_count": 18,
   "id": "5e5d2bd8",
   "metadata": {},
   "outputs": [
    {
     "name": "stderr",
     "output_type": "stream",
     "text": [
      "/home/kali/.local/lib/python3.10/site-packages/torchvision/models/_utils.py:208: UserWarning: The parameter 'pretrained' is deprecated since 0.13 and may be removed in the future, please use 'weights' instead.\n",
      "  warnings.warn(\n",
      "/home/kali/.local/lib/python3.10/site-packages/torchvision/models/_utils.py:223: UserWarning: Arguments other than a weight enum or `None` for 'weights' are deprecated since 0.13 and may be removed in the future. The current behavior is equivalent to passing `weights=MobileNet_V3_Large_Weights.IMAGENET1K_V1`. You can also use `weights=MobileNet_V3_Large_Weights.DEFAULT` to get the most up-to-date weights.\n",
      "  warnings.warn(msg)\n"
     ]
    }
   ],
   "source": [
    "from torchvision import models\n",
    "\n",
    "t_model=models.mobilenet_v3_large(pretrained=True)\n",
    "t_model.features[0][0]=nn.Conv2d(1,16, kernel_size=(3, 3), stride=(2, 2), padding=(1, 1), bias=False)\n",
    "t_model.classifier=nn.Sequential(nn.Linear(t_model.classifier[0].in_features,256),\n",
    "                                 nn.BatchNorm1d(256),\n",
    "                                 nn.Dropout(0.4),\n",
    "                                 nn.Linear(256,10))"
   ]
  },
  {
   "cell_type": "code",
   "execution_count": 19,
   "id": "7199d864",
   "metadata": {},
   "outputs": [],
   "source": [
    "optimizer1=optim.Adam(t_model.parameters(),lr=0.01)"
   ]
  },
  {
   "cell_type": "code",
   "execution_count": 20,
   "id": "b61f8f6f",
   "metadata": {},
   "outputs": [],
   "source": [
    "def t_train(epochs):\n",
    "    for epoch in range(epochs):\n",
    "        st=time.monotonic()\n",
    "        total=0\n",
    "        correct=0\n",
    "        running_loss=0\n",
    "\n",
    "        for data in trainloader:\n",
    "            inputs,labels=data\n",
    "            optimizer1.zero_grad()\n",
    "            output=t_model(inputs)\n",
    "            loss=criterion(output,labels)\n",
    "            loss.backward()\n",
    "            optimizer1.step()\n",
    "\n",
    "            total+=labels.size(0)\n",
    "            correct+=(torch.max(output,1)[1]==labels).sum().item()\n",
    "            running_loss+=loss.item()\n",
    "\n",
    "        val_correct=0\n",
    "        val_total=0\n",
    "        with torch.no_grad():\n",
    "            for data in valloader:\n",
    "                images,labels=data\n",
    "                outputs=t_model(images)\n",
    "                _,predicted=torch.max(outputs.data,1)\n",
    "                val_total+=labels.size(0)\n",
    "                val_correct+=(predicted==labels).sum().item()\n",
    "\n",
    "\n",
    "        en=time.monotonic()\n",
    "        print(f'[{en-st :.1f}s] [{epoch + 1}/{epochs}] loss: {running_loss / len(trainloader):.3f}, train acc : { (correct/total)*100 :.3f}%, val_acc : {(val_correct/val_total)*100 :.3f}% ')\n"
   ]
  },
  {
   "cell_type": "code",
   "execution_count": 21,
   "id": "2b76cd80",
   "metadata": {},
   "outputs": [
    {
     "name": "stdout",
     "output_type": "stream",
     "text": [
      "lr : 0.01\n",
      "[83.8s] [1/40] loss: 0.627, train acc : 77.061%, val_acc : 84.389% \n",
      "[82.4s] [2/40] loss: 0.368, train acc : 86.680%, val_acc : 86.222% \n",
      "[83.3s] [3/40] loss: 0.313, train acc : 88.643%, val_acc : 88.667% \n",
      "[83.4s] [4/40] loss: 0.281, train acc : 89.692%, val_acc : 89.433% \n",
      "[85.1s] [5/40] loss: 0.266, train acc : 90.225%, val_acc : 89.144% \n",
      "[79.2s] [6/40] loss: 0.248, train acc : 91.022%, val_acc : 90.211% \n",
      "[84.5s] [7/40] loss: 0.237, train acc : 91.422%, val_acc : 90.322% \n",
      "[85.7s] [8/40] loss: 0.231, train acc : 91.580%, val_acc : 90.678% \n",
      "[85.3s] [9/40] loss: 0.217, train acc : 92.037%, val_acc : 90.400% \n",
      "[80.3s] [10/40] loss: 0.214, train acc : 92.190%, val_acc : 90.889% \n",
      "[77.4s] [11/40] loss: 0.200, train acc : 92.724%, val_acc : 90.989% \n",
      "[80.8s] [12/40] loss: 0.195, train acc : 92.845%, val_acc : 90.667% \n",
      "[77.4s] [13/40] loss: 0.186, train acc : 93.198%, val_acc : 90.844% \n",
      "[77.4s] [14/40] loss: 0.184, train acc : 93.212%, val_acc : 91.178% \n",
      "[95.4s] [15/40] loss: 0.174, train acc : 93.602%, val_acc : 91.122% \n",
      "[79.5s] [16/40] loss: 0.172, train acc : 93.724%, val_acc : 91.333% \n",
      "[84.5s] [17/40] loss: 0.167, train acc : 93.894%, val_acc : 91.133% \n",
      "[88.5s] [18/40] loss: 0.161, train acc : 94.137%, val_acc : 90.889% \n",
      "[88.2s] [19/40] loss: 0.154, train acc : 94.322%, val_acc : 90.522% \n",
      "[86.7s] [20/40] loss: 0.151, train acc : 94.431%, val_acc : 91.100% \n",
      "[88.9s] [21/40] loss: 0.150, train acc : 94.510%, val_acc : 91.178% \n",
      "[102.1s] [22/40] loss: 0.143, train acc : 94.800%, val_acc : 90.644% \n",
      "[103.6s] [23/40] loss: 0.144, train acc : 94.776%, val_acc : 90.389% \n",
      "[103.0s] [24/40] loss: 0.137, train acc : 94.961%, val_acc : 91.222% \n",
      "[85.9s] [25/40] loss: 0.130, train acc : 95.282%, val_acc : 90.811% \n",
      "[84.4s] [26/40] loss: 0.132, train acc : 95.159%, val_acc : 90.978% \n",
      "[83.9s] [27/40] loss: 0.128, train acc : 95.324%, val_acc : 91.289% \n",
      "[84.7s] [28/40] loss: 0.123, train acc : 95.486%, val_acc : 90.900% \n",
      "[85.7s] [29/40] loss: 0.120, train acc : 95.667%, val_acc : 90.800% \n",
      "[81.8s] [30/40] loss: 0.117, train acc : 95.716%, val_acc : 90.900% \n",
      "[97.5s] [31/40] loss: 0.115, train acc : 95.775%, val_acc : 91.622% \n",
      "[86.3s] [32/40] loss: 0.110, train acc : 95.951%, val_acc : 91.289% \n",
      "[86.0s] [33/40] loss: 0.108, train acc : 96.059%, val_acc : 90.867% \n",
      "[85.3s] [34/40] loss: 0.107, train acc : 96.106%, val_acc : 90.867% \n",
      "[81.4s] [35/40] loss: 0.100, train acc : 96.396%, val_acc : 91.056% \n",
      "[81.3s] [36/40] loss: 0.098, train acc : 96.420%, val_acc : 90.833% \n",
      "[77.5s] [37/40] loss: 0.091, train acc : 96.735%, val_acc : 91.233% \n",
      "[86.1s] [38/40] loss: 0.092, train acc : 96.694%, val_acc : 90.978% \n",
      "[95.4s] [39/40] loss: 0.086, train acc : 96.863%, val_acc : 91.456% \n",
      "[85.9s] [40/40] loss: 0.091, train acc : 96.692%, val_acc : 91.211% \n",
      "lr : 0.001\n",
      "[95.3s] [1/15] loss: 0.083, train acc : 97.018%, val_acc : 90.933% \n",
      "[86.2s] [2/15] loss: 0.080, train acc : 97.088%, val_acc : 91.022% \n",
      "[78.0s] [3/15] loss: 0.079, train acc : 97.090%, val_acc : 91.211% \n",
      "[86.1s] [4/15] loss: 0.078, train acc : 97.178%, val_acc : 91.000% \n",
      "[85.2s] [5/15] loss: 0.078, train acc : 97.135%, val_acc : 91.611% \n",
      "[79.0s] [6/15] loss: 0.077, train acc : 97.167%, val_acc : 91.500% \n",
      "[96.4s] [7/15] loss: 0.071, train acc : 97.459%, val_acc : 91.133% \n",
      "[97.6s] [8/15] loss: 0.070, train acc : 97.518%, val_acc : 91.011% \n",
      "[81.1s] [9/15] loss: 0.071, train acc : 97.441%, val_acc : 90.989% \n",
      "[87.8s] [10/15] loss: 0.065, train acc : 97.643%, val_acc : 91.256% \n",
      "[88.8s] [11/15] loss: 0.063, train acc : 97.767%, val_acc : 91.122% \n",
      "[81.8s] [12/15] loss: 0.064, train acc : 97.690%, val_acc : 90.700% \n",
      "[88.0s] [13/15] loss: 0.062, train acc : 97.755%, val_acc : 91.233% \n",
      "[87.5s] [14/15] loss: 0.063, train acc : 97.771%, val_acc : 91.289% \n",
      "[79.8s] [15/15] loss: 0.058, train acc : 97.920%, val_acc : 91.267% \n"
     ]
    }
   ],
   "source": [
    "lr_list=[0.01,0.001]\n",
    "\n",
    "for lr in lr_list:\n",
    "    optimizer1.lr=lr\n",
    "    print('lr : '+ str(lr))\n",
    "    match lr:\n",
    "        case 0.01:\n",
    "            t_train(40)\n",
    "        case 0.001:\n",
    "            t_train(15)"
   ]
  },
  {
   "cell_type": "code",
   "execution_count": 22,
   "id": "cca21c88",
   "metadata": {},
   "outputs": [],
   "source": [
    "def test_n():\n",
    "    st=time.monotonic()\n",
    "\n",
    "    test_correct=0\n",
    "    test_total=0\n",
    "    \n",
    "    with torch.no_grad():\n",
    "        for data in testloader:\n",
    "            images,labels=data\n",
    "            outputs=n(images)\n",
    "            _,predicted=torch.max(outputs.data,1)\n",
    "            test_total+=labels.size(0)\n",
    "            test_correct+=(predicted==labels).sum().item()\n",
    "    \n",
    "    en=time.monotonic()\n",
    "\n",
    "    print(f'[{en-st :.1f}s] test acc : {(test_correct/test_total)*100 :.3f}%')\n",
    "\n",
    "def test_t():\n",
    "    st=time.monotonic()\n",
    "\n",
    "    test_correct=0\n",
    "    test_total=0\n",
    "    \n",
    "    with torch.no_grad():\n",
    "        for data in testloader:\n",
    "            images,labels=data\n",
    "            outputs=t_model(images)\n",
    "            _,predicted=torch.max(outputs.data,1)\n",
    "            test_total+=labels.size(0)\n",
    "            test_correct+=(predicted==labels).sum().item()\n",
    "    \n",
    "    en=time.monotonic()\n",
    "\n",
    "    print(f'[{en-st :.1f}s]   test acc : {(test_correct/test_total)*100 :.3f}%')\n",
    "        "
   ]
  },
  {
   "cell_type": "code",
   "execution_count": 23,
   "id": "223e7031",
   "metadata": {},
   "outputs": [
    {
     "name": "stdout",
     "output_type": "stream",
     "text": [
      "[3.2s] test acc : 91.800%\n"
     ]
    }
   ],
   "source": [
    "test_n()"
   ]
  },
  {
   "cell_type": "code",
   "execution_count": 24,
   "id": "c336f84d",
   "metadata": {},
   "outputs": [
    {
     "name": "stdout",
     "output_type": "stream",
     "text": [
      "[5.2s]   test acc : 91.770%\n"
     ]
    }
   ],
   "source": [
    "test_t()"
   ]
  },
  {
   "cell_type": "code",
   "execution_count": null,
   "id": "c4ac728e",
   "metadata": {},
   "outputs": [],
   "source": []
  }
 ],
 "metadata": {
  "kernelspec": {
   "display_name": "Python 3 (Spyder)",
   "language": "python3",
   "name": "python3"
  },
  "language_info": {
   "codemirror_mode": {
    "name": "ipython",
    "version": 3
   },
   "file_extension": ".py",
   "mimetype": "text/x-python",
   "name": "python",
   "nbconvert_exporter": "python",
   "pygments_lexer": "ipython3",
   "version": "3.10.12"
  }
 },
 "nbformat": 4,
 "nbformat_minor": 5
}
